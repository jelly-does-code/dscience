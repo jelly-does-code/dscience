{
 "cells": [
  {
   "cell_type": "code",
   "execution_count": 1,
   "metadata": {
    "id": "GVUQKzjI9DD6"
   },
   "outputs": [],
   "source": [
    "import os\n",
    "import pandas as pd\n",
    "import numpy as np\n",
    "\n",
    "import chromadb\n",
    "\n",
    "from langchain.text_splitter import RecursiveCharacterTextSplitter\n",
    "\n",
    "\n",
    "# Imports needed for vector store with huggingface\n",
    "from langchain_huggingface import HuggingFaceEmbeddings\n",
    "from langchain.document_loaders import TextLoader\n",
    "\n",
    "# Imports needed for vector store/model predictions with distilbert\n",
    "from transformers import DistilBertTokenizer, DistilBertModel\n",
    "import torch"
   ]
  },
  {
   "cell_type": "code",
   "execution_count": 2,
   "metadata": {
    "id": "xfMx26bI9UYC"
   },
   "outputs": [],
   "source": [
    "# Embedding function for Distilbert\n",
    "tokenizer_distilbert = DistilBertTokenizer.from_pretrained('distilbert-base-uncased')\n",
    "model_distilbert = DistilBertModel.from_pretrained('distilbert-base-uncased')\n",
    "\n",
    "def create_embedding_distilbert(text):\n",
    "    # Tokenize input text\n",
    "    inputs = tokenizer_distilbert(text, return_tensors='pt', padding=True, truncation=True)\n",
    "    # Get model outputs\n",
    "    with torch.no_grad():\n",
    "        outputs = model_distilbert(**inputs)\n",
    "    # Take the mean of the last hidden state to get the sentence embedding\n",
    "    return outputs.last_hidden_state.mean(dim=1).squeeze().numpy()"
   ]
  },
  {
   "cell_type": "code",
   "execution_count": 3,
   "metadata": {},
   "outputs": [],
   "source": [
    "client = chromadb.PersistentClient(path=\".\")\n",
    "collection = client.get_or_create_collection(\"astro_hf\")"
   ]
  },
  {
   "cell_type": "code",
   "execution_count": 17,
   "metadata": {},
   "outputs": [
    {
     "name": "stdout",
     "output_type": "stream",
     "text": [
      "Chunk 1:\n",
      "Length: 614\n",
      "Astronomy is a natural science that studies celestial objects and the phenomena that occur in the cosmos. It uses mathematics, physics, and chemistry in order to explain their origin and their overall evolution. Objects of interest include planets, moons, stars, nebulae, galaxies, meteoroids, asteroids, and comets. Relevant phenomena include supernova explosions, gamma ray bursts, quasars, blazars, pulsars, and cosmic microwave background radiation. More generally, astronomy studies everything that originates beyond Earth's atmosphere. Cosmology is a branch of astronomy that studies the universe as a whole.\n",
      "--------------------------------------------------\n",
      "Chunk 2:\n",
      "Length: 945\n",
      "Astronomy is one of the oldest natural sciences. The early civilizations in recorded history made methodical observations of the night sky. These include the Egyptians, Babylonians, Greeks, Indians, Chinese, Maya, and many ancient indigenous peoples of the Americas. In the past, astronomy included disciplines as diverse as astrometry, celestial navigation, observational astronomy, and the making of calendars.\n",
      "\n",
      "Professional astronomy is split into observational and theoretical branches. Observational astronomy is focused on acquiring data from observations of astronomical objects. This data is then analyzed using basic principles of physics. Theoretical astronomy is oriented toward the development of computer or analytical models to describe astronomical objects and phenomena. These two fields complement each other. Theoretical astronomy seeks to explain observational results and observations are used to confirm theoretical results.\n",
      "--------------------------------------------------\n",
      "Chunk 3:\n",
      "Length: 689\n",
      "Astronomy is one of the few sciences in which amateurs play an active role. This is especially true for the discovery and observation of transient events. Amateur astronomers have helped with many important discoveries, such as finding new comets. \n",
      "\n",
      "Astronomy (from the Greek ἀστρονομία from ἄστρον astron, \"star\" and -νομία -nomia from νόμος nomos, \"law\" or \"culture\") means \"law of the stars\" (or \"culture of the stars\" depending on the translation). Astronomy should not be confused with astrology, the belief system which claims that human affairs are correlated with the positions of celestial objects.[2] Although the two fields share a common origin, they are now entirely distinct.\n",
      "--------------------------------------------------\n",
      "Chunk 4:\n",
      "Length: 896\n",
      "\"Astronomy\" and \"astrophysics\" are synonyms.[4][5][6] Based on strict dictionary definitions, \"astronomy\" refers to \"the study of objects and matter outside the Earth's atmosphere and of their physical and chemical properties\",[7] while \"astrophysics\" refers to the branch of astronomy dealing with \"the behavior, physical properties, and dynamic processes of celestial objects and phenomena\".[8] In some cases, as in the introduction of the introductory textbook The Physical Universe by Frank Shu, \"astronomy\" may be used to describe the qualitative study of the subject, whereas \"astrophysics\" is used to describe the physics-oriented version of the subject.[9] However, since most modern astronomical research deals with subjects related to physics, modern astronomy could actually be called astrophysics.[4] Some fields, such as astrometry, are purely astronomy rather than also astrophysics\n",
      "--------------------------------------------------\n",
      "Chunk 5:\n",
      "Length: 449\n",
      ". Various departments in which scientists carry out research on this subject may use \"astronomy\" and \"astrophysics\", partly depending on whether the department is historically affiliated with a physics department,[5] and many professional astronomers have physics rather than astronomy degrees.[6] Some titles of the leading scientific journals in this field include The Astronomical Journal, The Astrophysical Journal, and Astronomy & Astrophysics.\n",
      "--------------------------------------------------\n"
     ]
    }
   ],
   "source": [
    "# Make vector store statbel_huggingface with unnormalized huggingface embedding\n",
    "# Load the text document\n",
    "from langchain.vectorstores import Chroma\n",
    "\n",
    "loader = TextLoader(\"input_data/astronomy.txt\")\n",
    "documents = loader.load()\n",
    "\n",
    "# Split the text into chunks with LangChain's text splitter\n",
    "text_splitter = RecursiveCharacterTextSplitter(chunk_size=1000, \n",
    "                                               chunk_overlap=40,\n",
    "                                               separators=[\"\\n\\n\", \"\\n\", \". \", \"! \", \"? \"],\n",
    "                                               keep_separator=True)\n",
    "docs = text_splitter.split_documents(documents)\n",
    "\n",
    "# Filter chunks to ensure they meet the minimum size requirement\n",
    "min_chunk_size = 200\n",
    "filtered_chunks = [chunk for chunk in docs if len(chunk.page_content) >= min_chunk_size]\n",
    "\n",
    "\n",
    "\n",
    "hf_embedding_function = HuggingFaceEmbeddings(model_name=\"sentence-transformers/all-MiniLM-L6-v2\")\n",
    "\n",
    "recreate_vectorstore = 1\n",
    "if recreate_vectorstore:\n",
    "    vector_store = Chroma.from_documents(docs, hf_embedding_function)\n",
    "\n",
    "# Check out some chunks created by RecursiveCharacterTextSplitter\n",
    "for i, chunk in enumerate(docs):\n",
    "    if i < 5:\n",
    "        print(f\"Chunk {i + 1}:\")\n",
    "        print(f\"Length: {len(chunk.page_content)}\")\n",
    "        print(chunk.page_content)  # or chunk['page_content'] if it's in dictionary form\n",
    "        print(\"-\" * 50)"
   ]
  },
  {
   "cell_type": "code",
   "execution_count": 19,
   "metadata": {},
   "outputs": [
    {
     "name": "stdout",
     "output_type": "stream",
     "text": [
      "The existence of the Earth's galaxy, the Milky Way, as its own group of stars was only proved in the 20th century, along with the existence of \"external\" galaxies. The observed recession of those galaxies led to the discovery of the expansion of the Universe.[42] Theoretical astronomy led to speculations on the existence of objects such as black holes and neutron stars, which have been used to explain such observed phenomena as quasars, pulsars, blazars, and radio galaxies. Physical cosmology made huge advances during the 20th century. In the early 1900s the model of the Big Bang theory was formulated, heavily evidenced by cosmic microwave background radiation, Hubble's law, and the cosmological abundances of elements\n",
      "--------------------------------------------------\n",
      "The existence of the Earth's galaxy, the Milky Way, as its own group of stars was only proved in the 20th century, along with the existence of \"external\" galaxies. The observed recession of those galaxies led to the discovery of the expansion of the Universe.[42] Theoretical astronomy led to speculations on the existence of objects such as black holes and neutron stars, which have been used to explain such observed phenomena as quasars, pulsars, blazars, and radio galaxies. Physical cosmology made huge advances during the 20th century. In the early 1900s the model of the Big Bang theory was formulated, heavily evidenced by cosmic microwave background radiation, Hubble's law, and the cosmological abundances of elements\n",
      "--------------------------------------------------\n",
      ". Physical cosmology made huge advances during the 20th century. In the early 1900s the model of the Big Bang theory was formulated, heavily evidenced by cosmic microwave background radiation, Hubble's law, and the cosmological abundances of elements\n",
      "--------------------------------------------------\n"
     ]
    }
   ],
   "source": [
    "query = \"What kind of phenomena can be explained with the Big Bang theory?\"\n",
    "results = vector_store.similarity_search(query, k=3)  # Retrieve top 3 matches\n",
    "\n",
    "# Combine the retrieved documents to use as context\n",
    "context = \"\\n\\n\".join(result.page_content for result in results)\n",
    "\n",
    "for result in results:\n",
    "    print(result.page_content)\n",
    "    print(\"-\" * 50)\n"
   ]
  },
  {
   "cell_type": "code",
   "execution_count": 20,
   "metadata": {},
   "outputs": [
    {
     "name": "stdout",
     "output_type": "stream",
     "text": [
      "\n",
      "T5 Output:\n",
      "\n",
      "quasars, pulsars, blazars, and radio galaxies\n",
      "--------------------------------------------------\n",
      "\n",
      "Distilbert Output:\n",
      "\n",
      "observed phenomena\n",
      "--------------------------------------------------\n",
      "\n",
      "DistilGPT-2 Output:\n",
      "\n",
      "Given the context: The existence of the Earth's galaxy, the Milky Way, as its own group of stars was only proved in the 20th century, along with the existence of \"external\" galaxies. The observed recession of those galaxies led to the discovery of the expansion of the Universe.[42] Theoretical astronomy led to speculations on the existence of objects such as black holes and neutron stars, which have been used to explain such observed phenomena as quasars, pulsars, blazars, and radio galaxies. Physical cosmology made huge advances during the 20th century. In the early 1900s the model of the Big Bang theory was formulated, heavily evidenced by cosmic microwave background radiation, Hubble's law, and the cosmological abundances of elements\n",
      "\n",
      "The existence of the Earth's galaxy, the Milky Way, as its own group of stars was only proved in the 20th century, along with the existence of \"external\" galaxies. The observed recession of those galaxies led to the discovery of the expansion of the Universe.[42] Theoretical astronomy led to speculations on the existence of objects such as black holes and neutron stars, which have been used to explain such observed phenomena as quasars, pulsars, blazars, and radio galaxies. Physical cosmology made huge advances during the 20th century. In the early 1900s the model of the Big Bang theory was formulated, heavily evidenced by cosmic microwave background radiation, Hubble's law, and the cosmological abundances of elements\n",
      "\n",
      ". Physical cosmology made huge advances during the 20th century. In the early 1900s the model of the Big Bang theory was formulated, heavily evidenced by cosmic microwave background radiation, Hubble's law, and the cosmological abundances of elements, answer the question: What kind of phenomena can be explained with the Big Bang theory?\n",
      "\n",
      "A recent study has revealed that the universe's stars are only known as massive elliptical rings, due to the formation of supermassive black hole masses. According to a new paper called \"The Big Bang Theory\", the theory of the Big Bang theory and the explanation for the existence of stars are described (as defined by the model in the article, \"The Big Bang Theory,\" a study called \"The Big Bang Theory\" published in 2011) as well as several other theories, including the explanation for the existence of \"external\" clouds of matter, such as quasars and neutron stars, that exist simultaneously.\n",
      "These\n"
     ]
    }
   ],
   "source": [
    "from transformers import pipeline\n",
    "# Use some text-generation models and compare\n",
    "#generator = pipeline(\"text-generation\", model=\"distilgpt2\")\n",
    "\n",
    "query_w_context = f\"Given the context: {context}, answer the question: {query}\"\n",
    "\n",
    "\n",
    "t5_generator = pipeline(\"text2text-generation\", model=\"t5-small\", device=0 if torch.cuda.is_available() else -1, truncation=True)\n",
    "t5_output = t5_generator(query_w_context, max_length=500)\n",
    "\n",
    "distilbert_generator = pipeline(\"question-answering\", model=\"distilbert-base-uncased-distilled-squad\", max_length=500, num_return_sequences=1)\n",
    "#gpt2_output = distilbert_generator(query, max_length=500, num_return_sequences=1)\n",
    "result = distilbert_generator(question=query, context=context)\n",
    "\n",
    "\n",
    "distilgpt2_generator = pipeline(\"text-generation\", model=\"distilgpt2\", device=0 if torch.cuda.is_available() else -1, truncation=True, pad_token_id=50256)\n",
    "distilgpt2_output = distilgpt2_generator(query_w_context, max_length=500, num_return_sequences=1)\n",
    "\n",
    "\n",
    "\n",
    "# Print only the generated text responses\n",
    "print(\"\\nT5 Output:\\n\")\n",
    "print(t5_output[0]['generated_text'])\n",
    "print(\"-\" * 50)\n",
    "print(\"\\nDistilbert Output:\\n\")\n",
    "print(result['answer'])\n",
    "print(\"-\" * 50)\n",
    "print(\"\\nDistilGPT-2 Output:\\n\")\n",
    "print(distilgpt2_output[0]['generated_text'])"
   ]
  },
  {
   "cell_type": "code",
   "execution_count": null,
   "metadata": {},
   "outputs": [],
   "source": []
  },
  {
   "cell_type": "code",
   "execution_count": null,
   "metadata": {},
   "outputs": [],
   "source": []
  },
  {
   "cell_type": "code",
   "execution_count": null,
   "metadata": {},
   "outputs": [],
   "source": []
  },
  {
   "cell_type": "code",
   "execution_count": null,
   "metadata": {},
   "outputs": [],
   "source": []
  },
  {
   "cell_type": "code",
   "execution_count": null,
   "metadata": {},
   "outputs": [],
   "source": []
  },
  {
   "cell_type": "code",
   "execution_count": null,
   "metadata": {},
   "outputs": [],
   "source": []
  }
 ],
 "metadata": {
  "colab": {
   "authorship_tag": "ABX9TyO6+Sy9CskVr7oBXABvSo8e",
   "include_colab_link": true,
   "provenance": []
  },
  "kernelspec": {
   "display_name": "venv",
   "language": "python",
   "name": "venv"
  },
  "language_info": {
   "codemirror_mode": {
    "name": "ipython",
    "version": 3
   },
   "file_extension": ".py",
   "mimetype": "text/x-python",
   "name": "python",
   "nbconvert_exporter": "python",
   "pygments_lexer": "ipython3",
   "version": "3.10.12"
  }
 },
 "nbformat": 4,
 "nbformat_minor": 4
}
