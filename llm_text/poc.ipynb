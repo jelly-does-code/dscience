{
 "cells": [
  {
   "cell_type": "code",
   "execution_count": 1,
   "metadata": {
    "id": "GVUQKzjI9DD6"
   },
   "outputs": [],
   "source": [
    "import os\n",
    "import pandas as pd\n",
    "import numpy as np\n",
    "import requests\n",
    "\n",
    "from langchain.text_splitter import RecursiveCharacterTextSplitter\n",
    "from langchain_chroma import Chroma\n",
    "from langchain_huggingface import HuggingFaceEmbeddings\n",
    "from langchain.document_loaders import TextLoader\n",
    "\n",
    "import torch"
   ]
  },
  {
   "cell_type": "code",
   "execution_count": 2,
   "metadata": {},
   "outputs": [
    {
     "name": "stderr",
     "output_type": "stream",
     "text": [
      "/home/jelly/Sync/jelly/dev/dscience/venv/lib/python3.10/site-packages/sentence_transformers/cross_encoder/CrossEncoder.py:13: TqdmExperimentalWarning: Using `tqdm.autonotebook.tqdm` in notebook mode. Use `tqdm.tqdm` instead to force console mode (e.g. in jupyter console)\n",
      "  from tqdm.autonotebook import tqdm, trange\n"
     ]
    }
   ],
   "source": [
    "# Make vector store statbel_huggingface with unnormalized huggingface embedding\n",
    "# Load the text document\n",
    "embedding_function = HuggingFaceEmbeddings(model_name=\"sentence-transformers/all-MiniLM-L6-v2\")\n",
    "collection_name=\"astro_hf\"\n",
    "\n",
    "recreate_vectorstore = 0\n",
    "if recreate_vectorstore:\n",
    "    try:\n",
    "        os.remove('chroma.sqlite3')\n",
    "    except:\n",
    "        pass\n",
    "    vector_store = Chroma(collection_name=collection_name, \n",
    "                      embedding_function=embedding_function,\n",
    "                      persist_directory=\".\")\n",
    "    \n",
    "    loader = TextLoader(\"input_data/astronomy.txt\")\n",
    "    documents = loader.load()\n",
    "    \n",
    "    # Split the text into chunks with LangChain's text splitter\n",
    "    text_splitter = RecursiveCharacterTextSplitter(chunk_size=1000, \n",
    "                                                   chunk_overlap=40,\n",
    "                                                   separators=[\"\\n\\n\", \"\\n\", \". \", \"! \", \"? \"],\n",
    "                                                   keep_separator=True)\n",
    "    docs = text_splitter.split_documents(documents)\n",
    "\n",
    "    # Filter chunks to ensure they meet the minimum size requirement\n",
    "    min_chunk_size = 200\n",
    "    filtered_chunks = [chunk for chunk in docs if len(chunk.page_content) >= min_chunk_size]\n",
    "    vector_store.add_documents(filtered_chunks)\n",
    "\n",
    "    # Check out some chunks created by RecursiveCharacterTextSplitter\n",
    "    for i, chunk in enumerate(docs):\n",
    "        if i < 5:\n",
    "            print(f\"Chunk {i + 1}:\")\n",
    "            print(f\"Length: {len(chunk.page_content)}\")\n",
    "            print(chunk.page_content)\n",
    "            print(\"-\" * 50)\n",
    "else:\n",
    "    vector_store = Chroma(collection_name=collection_name, \n",
    "                      embedding_function=embedding_function,\n",
    "                      persist_directory=\".\")"
   ]
  },
  {
   "cell_type": "code",
   "execution_count": 3,
   "metadata": {},
   "outputs": [
    {
     "name": "stdout",
     "output_type": "stream",
     "text": [
      "Astronomy is a natural science that studies celestial objects and the phenomena that occur in the cosmos. It uses mathematics, physics, and chemistry in order to explain their origin and their overall evolution. Objects of interest include planets, moons, stars, nebulae, galaxies, meteoroids, asteroids, and comets. Relevant phenomena include supernova explosions, gamma ray bursts, quasars, blazars, pulsars, and cosmic microwave background radiation. More generally, astronomy studies everything that originates beyond Earth's atmosphere. Cosmology is a branch of astronomy that studies the universe as a whole.\n",
      "--------------------------------------------------\n",
      "Astronomy is one of the oldest natural sciences. The early civilizations in recorded history made methodical observations of the night sky. These include the Egyptians, Babylonians, Greeks, Indians, Chinese, Maya, and many ancient indigenous peoples of the Americas. In the past, astronomy included disciplines as diverse as astrometry, celestial navigation, observational astronomy, and the making of calendars.\n",
      "\n",
      "Professional astronomy is split into observational and theoretical branches. Observational astronomy is focused on acquiring data from observations of astronomical objects. This data is then analyzed using basic principles of physics. Theoretical astronomy is oriented toward the development of computer or analytical models to describe astronomical objects and phenomena. These two fields complement each other. Theoretical astronomy seeks to explain observational results and observations are used to confirm theoretical results.\n",
      "--------------------------------------------------\n"
     ]
    }
   ],
   "source": [
    "query = \"What is astronomy?\"\n",
    "results = vector_store.similarity_search(query, k=2)\n",
    "\n",
    "# Combine the retrieved documents to use as context\n",
    "context = \"\\n\\n\".join(result.page_content.strip() for result in results)\n",
    "\n",
    "for i, result in enumerate(results):\n",
    "    if i < 5:\n",
    "        print(result.page_content)\n",
    "        print(\"-\" * 50)"
   ]
  },
  {
   "cell_type": "code",
   "execution_count": 6,
   "metadata": {},
   "outputs": [
    {
     "name": "stdout",
     "output_type": "stream",
     "text": [
      "Answer the question based only on the following context: Astronomy is a natural science that studies celestial objects and the phenomena that occur in the cosmos. It uses mathematics, physics, and chemistry in order to explain their origin and their overall evolution. Objects of interest include planets, moons, stars, nebulae, galaxies, meteoroids, asteroids, and comets. Relevant phenomena include supernova explosions, gamma ray bursts, quasars, blazars, pulsars, and cosmic microwave background radiation. More generally, astronomy studies everything that originates beyond Earth's atmosphere. Cosmology is a branch of astronomy that studies the universe as a whole.\n",
      "\n",
      "Astronomy is one of the oldest natural sciences. The early civilizations in recorded history made methodical observations of the night sky. These include the Egyptians, Babylonians, Greeks, Indians, Chinese, Maya, and many ancient indigenous peoples of the Americas. In the past, astronomy included disciplines as diverse as astrometry, celestial navigation, observational astronomy, and the making of calendars.\n",
      "\n",
      "Professional astronomy is split into observational and theoretical branches. Observational astronomy is focused on acquiring data from observations of astronomical objects. This data is then analyzed using basic principles of physics. Theoretical astronomy is oriented toward the development of computer or analytical models to describe astronomical objects and phenomena. These two fields complement each other. Theoretical astronomy seeks to explain observational results and observations are used to confirm theoretical results.\n",
      "\n",
      "Question: What is astronomy?\n"
     ]
    }
   ],
   "source": [
    "# Query the llm\n",
    "query_w_context = f\"\"\"Answer the question based only on the following context: {context}\n",
    "\n",
    "Question: {query}\"\"\"\n",
    "\n",
    "# Function to query local flask server llm (mistral-7b-orca)\n",
    "def query_llm(prompt):\n",
    "    url = \"http://192.168.0.23:8000/generate\"\n",
    "    response = requests.post(url, json={\"prompt\": prompt})\n",
    "    data = response.json()\n",
    "    return data\n",
    "\n",
    "response = query_llm(query_w_context)\n",
    "print(query_w_context)"
   ]
  },
  {
   "cell_type": "code",
   "execution_count": 7,
   "metadata": {},
   "outputs": [
    {
     "name": "stdout",
     "output_type": "stream",
     "text": [
      "\n",
      "Generated on cuda.\n",
      "\n",
      "Response: Answer: Astronomy is a natural science that studies celestial objects and the phenomena that occur in the cosmos.\n",
      "\n",
      "\n"
     ]
    }
   ],
   "source": [
    "processing_type = response[\"device\"]\n",
    "answer = response[\"response\"]['choices'][0]['text'].strip()\n",
    "\n",
    "output = f'''\n",
    "Generated on {processing_type}.\n",
    "\n",
    "Response: {answer}\n",
    "\n",
    "'''\n",
    "\n",
    "print(output)"
   ]
  }
 ],
 "metadata": {
  "colab": {
   "authorship_tag": "ABX9TyO6+Sy9CskVr7oBXABvSo8e",
   "include_colab_link": true,
   "provenance": []
  },
  "kernelspec": {
   "display_name": "venv",
   "language": "python",
   "name": "venv"
  },
  "language_info": {
   "codemirror_mode": {
    "name": "ipython",
    "version": 3
   },
   "file_extension": ".py",
   "mimetype": "text/x-python",
   "name": "python",
   "nbconvert_exporter": "python",
   "pygments_lexer": "ipython3",
   "version": "3.10.12"
  }
 },
 "nbformat": 4,
 "nbformat_minor": 4
}
