{
 "cells": [
  {
   "cell_type": "markdown",
   "metadata": {
    "colab_type": "text",
    "id": "view-in-github"
   },
   "source": [
    "<a href=\"https://colab.research.google.com/github/rabbitmetrics/cx-analytics/blob/main/notebooks/cx-analytics.ipynb\" target=\"_parent\"><img src=\"https://colab.research.google.com/assets/colab-badge.svg\" alt=\"Open In Colab\"/></a>"
   ]
  },
  {
   "cell_type": "code",
   "execution_count": 1,
   "metadata": {
    "id": "GVUQKzjI9DD6"
   },
   "outputs": [],
   "source": [
    "import os\n",
    "import pandas as pd\n",
    "from langchain_huggingface import HuggingFaceEmbeddings"
   ]
  },
  {
   "cell_type": "code",
   "execution_count": 2,
   "metadata": {
    "id": "xfMx26bI9UYC"
   },
   "outputs": [
    {
     "name": "stderr",
     "output_type": "stream",
     "text": [
      "/home/jelly/Sync/jelly/dev/dscience/venv/lib/python3.10/site-packages/sentence_transformers/cross_encoder/CrossEncoder.py:13: TqdmExperimentalWarning: Using `tqdm.autonotebook.tqdm` in notebook mode. Use `tqdm.tqdm` instead to force console mode (e.g. in jupyter console)\n",
      "  from tqdm.autonotebook import tqdm, trange\n"
     ]
    },
    {
     "name": "stdout",
     "output_type": "stream",
     "text": [
      "(1006, 2)\n",
      "<bound method NDFrame.head of                                                     text  \\\n",
      "87953  in the city of Halle the number of females bor...   \n",
      "87954  in the city of Halle the number of males born ...   \n",
      "87955  in the city of Halle the number of females bor...   \n",
      "87956  in the city of Halle the number of females bor...   \n",
      "87957  in the city of Halle the number of females bor...   \n",
      "...                                                  ...   \n",
      "88954  in the city of Halle the number of females for...   \n",
      "88955  in the city of Halle the number of females for...   \n",
      "88956  in the city of Halle the number of females for...   \n",
      "88957  in the city of Halle the number of males forei...   \n",
      "88958  in the city of Halle the number of males forei...   \n",
      "\n",
      "                                  embeddings_huggingface  \n",
      "87953  [-0.01284471619874239, 0.026470182463526726, 0...  \n",
      "87954  [-0.0030114194378256798, -0.001073996420018375...  \n",
      "87955  [-0.013922133482992649, 0.028771555051207542, ...  \n",
      "87956  [-0.005704917479306459, 0.019736476242542267, ...  \n",
      "87957  [-0.004115410149097443, 0.037098776549100876, ...  \n",
      "...                                                  ...  \n",
      "88954  [-0.021757908165454865, 0.03338837996125221, 0...  \n",
      "88955  [-0.005375654436647892, 0.03561140596866608, 0...  \n",
      "88956  [-0.01057309377938509, 0.020777326077222824, 0...  \n",
      "88957  [-0.00738110626116395, 0.01332445815205574, 0....  \n",
      "88958  [-0.0027617677114903927, 0.021404150873422623,...  \n",
      "\n",
      "[1006 rows x 2 columns]>\n"
     ]
    }
   ],
   "source": [
    "# Extract data from files\n",
    "\n",
    "df = pd.read_csv('input/soc_sample.csv', header=0)\n",
    "df = df[df.iloc[:, 0].str.startswith('in the city of Halle')]\n",
    "\n",
    "\n",
    "huggingface_embeddings_model = HuggingFaceEmbeddings()\n",
    "df['embeddings_huggingface'] = df['text'].apply(lambda x: huggingface_embeddings_model.embed_query(x))\n",
    "\n",
    "print(df.shape)\n",
    "print(df.head)"
   ]
  },
  {
   "cell_type": "code",
   "execution_count": 3,
   "metadata": {},
   "outputs": [],
   "source": [
    "import chromadb\n",
    "client = chromadb.Client()\n",
    "collection_huggingface = client.create_collection(name=\"statbel_huggingface\")"
   ]
  },
  {
   "cell_type": "code",
   "execution_count": 4,
   "metadata": {},
   "outputs": [],
   "source": [
    "# Generate unique IDs for each entry\n",
    "ids = [str(index) for index in df.index]  # Convert index to string for IDs\n",
    "\n",
    "# Add embeddings and corresponding text to ChromaDB\n",
    "collection_huggingface.add(\n",
    "    ids=ids,  # Unique identifiers for each document\n",
    "    documents=df['text'].tolist(), \n",
    "    embeddings=df['embeddings_huggingface'].tolist(),\n",
    "    metadatas=[{\"index\": index} for index in df.index]  # Optional metadata\n",
    ")\n"
   ]
  },
  {
   "cell_type": "code",
   "execution_count": 5,
   "metadata": {},
   "outputs": [
    {
     "data": {
      "text/plain": [
       "{'ids': [['88082']],\n",
       " 'embeddings': None,\n",
       " 'documents': [['in the city of Halle the number of males born in bel married and age 28 is 29']],\n",
       " 'uris': None,\n",
       " 'data': None,\n",
       " 'metadatas': [[{'index': 88082}]],\n",
       " 'distances': [[0.18536950647830963]],\n",
       " 'included': [<IncludeEnum.distances: 'distances'>,\n",
       "  <IncludeEnum.documents: 'documents'>,\n",
       "  <IncludeEnum.metadatas: 'metadatas'>]}"
      ]
     },
     "execution_count": 5,
     "metadata": {},
     "output_type": "execute_result"
    }
   ],
   "source": [
    "# Define your query\n",
    "query_text = \"how many married males of age 30 which are born in bel are there in Halle\"\n",
    "\n",
    "# Generate an embedding for the query\n",
    "query_embedding_huggingface = huggingface_embeddings_model.embed_query(query_text)\n",
    "\n",
    "# Perform a similarity search\n",
    "results = collection_huggingface.query(\n",
    "    query_embeddings=[query_embedding_huggingface],  \n",
    "    n_results=1\n",
    ")\n",
    "\n",
    "results"
   ]
  },
  {
   "cell_type": "code",
   "execution_count": 6,
   "metadata": {},
   "outputs": [
    {
     "name": "stdout",
     "output_type": "stream",
     "text": [
      "(1006, 3)\n",
      "                                                    text  \\\n",
      "87953  in the city of Halle the number of females bor...   \n",
      "87954  in the city of Halle the number of males born ...   \n",
      "87955  in the city of Halle the number of females bor...   \n",
      "87956  in the city of Halle the number of females bor...   \n",
      "87957  in the city of Halle the number of females bor...   \n",
      "\n",
      "                                  embeddings_huggingface  \\\n",
      "87953  [-0.01284471619874239, 0.026470182463526726, 0...   \n",
      "87954  [-0.0030114194378256798, -0.001073996420018375...   \n",
      "87955  [-0.013922133482992649, 0.028771555051207542, ...   \n",
      "87956  [-0.005704917479306459, 0.019736476242542267, ...   \n",
      "87957  [-0.004115410149097443, 0.037098776549100876, ...   \n",
      "\n",
      "                                   embeddings_distilbert  \n",
      "87953  [-0.13163061, -0.038754307, 0.14012174, -0.263...  \n",
      "87954  [-0.1245866, 0.05417601, 0.19719774, -0.291879...  \n",
      "87955  [-0.11988481, -0.041241653, 0.16018592, -0.264...  \n",
      "87956  [-0.13078669, -0.026427303, 0.15052532, -0.289...  \n",
      "87957  [-0.10666418, -0.002152282, 0.22069478, -0.310...  \n"
     ]
    }
   ],
   "source": [
    "from transformers import DistilBertTokenizer, DistilBertModel\n",
    "import torch\n",
    "\n",
    "# Initialize DistilBERT tokenizer and model\n",
    "tokenizer = DistilBertTokenizer.from_pretrained('distilbert-base-uncased')\n",
    "model = DistilBertModel.from_pretrained('distilbert-base-uncased')\n",
    "\n",
    "# Function to create embeddings\n",
    "def create_embedding(text):\n",
    "    # Tokenize input text\n",
    "    inputs = tokenizer(text, return_tensors='pt', padding=True, truncation=True)\n",
    "    # Get model outputs\n",
    "    with torch.no_grad():\n",
    "        outputs = model(**inputs)\n",
    "    # Take the mean of the last hidden state to get the sentence embedding\n",
    "    return outputs.last_hidden_state.mean(dim=1).squeeze().numpy()\n",
    "\n",
    "# Apply the embedding function to the 'text' column\n",
    "df['embeddings_distilbert'] = df['text'].apply(lambda x: create_embedding(x))\n",
    "\n",
    "print(df.shape)\n",
    "print(df.head())"
   ]
  },
  {
   "cell_type": "code",
   "execution_count": 7,
   "metadata": {},
   "outputs": [],
   "source": [
    "# Add embeddings and corresponding text to ChromaDB\n",
    "\n",
    "collection_distilbert = client.create_collection(name=\"statbel_distilbert\")\n",
    "collection_distilbert.add(\n",
    "    ids=ids,  # Unique identifiers for each document\n",
    "    documents=df['text'].tolist(),  # The text you want to store\n",
    "    embeddings=df['embeddings_distilbert'].tolist(),  # The corresponding embeddings\n",
    "    metadatas=[{\"index\": index} for index in df.index]  # Optional metadata\n",
    ")"
   ]
  },
  {
   "cell_type": "code",
   "execution_count": 8,
   "metadata": {},
   "outputs": [
    {
     "data": {
      "text/plain": [
       "{'ids': [['88710', '88727', '88664', '88647', '88726']],\n",
       " 'embeddings': None,\n",
       " 'documents': [['in the city of Halle the number of males born in bel not married and age 25 is 200',\n",
       "   'in the city of Halle the number of males born in bel not married and age 30 is 188',\n",
       "   'in the city of Halle the number of males born in bel not married and age 10 is 247',\n",
       "   'in the city of Halle the number of males born in bel not married and age 9 is 240',\n",
       "   'in the city of Halle the number of males born in bel not married and age 15 is 251']],\n",
       " 'uris': None,\n",
       " 'data': None,\n",
       " 'metadatas': [[{'index': 88710},\n",
       "   {'index': 88727},\n",
       "   {'index': 88664},\n",
       "   {'index': 88647},\n",
       "   {'index': 88726}]],\n",
       " 'distances': [[8.25822639465332,\n",
       "   8.612930297851562,\n",
       "   8.852355003356934,\n",
       "   8.939790725708008,\n",
       "   8.962467193603516]],\n",
       " 'included': [<IncludeEnum.distances: 'distances'>,\n",
       "  <IncludeEnum.documents: 'documents'>,\n",
       "  <IncludeEnum.metadatas: 'metadatas'>]}"
      ]
     },
     "execution_count": 8,
     "metadata": {},
     "output_type": "execute_result"
    }
   ],
   "source": [
    "# Generate an embedding for the query\n",
    "query_embedding_distilbert = create_embedding(query_text)\n",
    "\n",
    "# Perform a similarity search\n",
    "results = collection_distilbert.query(\n",
    "    query_embeddings=[query_embedding_distilbert],  # The embedding of your query\n",
    "    n_results=5  # Number of results to retrieve\n",
    ")\n",
    "\n",
    "results"
   ]
  },
  {
   "cell_type": "code",
   "execution_count": null,
   "metadata": {},
   "outputs": [],
   "source": []
  },
  {
   "cell_type": "code",
   "execution_count": null,
   "metadata": {},
   "outputs": [],
   "source": []
  },
  {
   "cell_type": "code",
   "execution_count": null,
   "metadata": {},
   "outputs": [],
   "source": []
  },
  {
   "cell_type": "code",
   "execution_count": null,
   "metadata": {
    "id": "7RAvagBLBNlf"
   },
   "outputs": [],
   "source": []
  }
 ],
 "metadata": {
  "colab": {
   "authorship_tag": "ABX9TyO6+Sy9CskVr7oBXABvSo8e",
   "include_colab_link": true,
   "provenance": []
  },
  "kernelspec": {
   "display_name": "venv",
   "language": "python",
   "name": "venv"
  },
  "language_info": {
   "codemirror_mode": {
    "name": "ipython",
    "version": 3
   },
   "file_extension": ".py",
   "mimetype": "text/x-python",
   "name": "python",
   "nbconvert_exporter": "python",
   "pygments_lexer": "ipython3",
   "version": "3.10.12"
  }
 },
 "nbformat": 4,
 "nbformat_minor": 4
}
