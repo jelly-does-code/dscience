{
 "cells": [
  {
   "cell_type": "markdown",
   "metadata": {
    "colab_type": "text",
    "id": "view-in-github"
   },
   "source": [
    "<a href=\"https://colab.research.google.com/github/rabbitmetrics/cx-analytics/blob/main/notebooks/cx-analytics.ipynb\" target=\"_parent\"><img src=\"https://colab.research.google.com/assets/colab-badge.svg\" alt=\"Open In Colab\"/></a>"
   ]
  },
  {
   "cell_type": "code",
   "execution_count": 1,
   "metadata": {
    "id": "GVUQKzjI9DD6"
   },
   "outputs": [],
   "source": [
    "import os\n",
    "import pandas as pd\n",
    "\n",
    "import chromadb\n",
    "\n",
    "# Imports needed for similarity search improvement\n",
    "from sklearn.preprocessing import normalize\n",
    "\n",
    "# Imports needed for vector store with huggingface\n",
    "from langchain_huggingface import HuggingFaceEmbeddings\n",
    "\n",
    "# Imports needed for vector store with distilbert\n",
    "from transformers import DistilBertTokenizer, DistilBertModel\n",
    "import torch"
   ]
  },
  {
   "cell_type": "code",
   "execution_count": 2,
   "metadata": {},
   "outputs": [],
   "source": [
    "# Import data\n",
    "df = pd.read_csv('input_data/soc_sample.csv', header=0)\n",
    "df = df[df.iloc[:, 0].str.startswith('in the city of Halle')]"
   ]
  },
  {
   "cell_type": "code",
   "execution_count": 3,
   "metadata": {
    "id": "xfMx26bI9UYC"
   },
   "outputs": [
    {
     "name": "stdout",
     "output_type": "stream",
     "text": [
      "                                                    text  \\\n",
      "87953  in the city of Halle the number of females bor...   \n",
      "\n",
      "                                  embeddings_huggingface  \\\n",
      "87953  [-0.01284471619874239, 0.026470182463526726, 0...   \n",
      "\n",
      "                       embeddings_huggingface_normalized  \\\n",
      "87953  [-0.012844716066090781, 0.026470182190160445, ...   \n",
      "\n",
      "                                   embeddings_distilbert  \n",
      "87953  [-0.13163061, -0.038754307, 0.14012174, -0.263...  \n"
     ]
    }
   ],
   "source": [
    "# Add different embeddings to the df\n",
    "\n",
    "# Huggingface\n",
    "huggingface_embeddings_model = HuggingFaceEmbeddings()\n",
    "df['embeddings_huggingface'] = df['text'].apply(lambda x: huggingface_embeddings_model.embed_query(x))\n",
    "df['embeddings_huggingface_normalized'] = df['embeddings_huggingface'].apply(\n",
    "    lambda emb: normalize([emb], axis=1).flatten().tolist()\n",
    ")\n",
    "\n",
    "# DistilBERT\n",
    "tokenizer = DistilBertTokenizer.from_pretrained('distilbert-base-uncased')\n",
    "model = DistilBertModel.from_pretrained('distilbert-base-uncased')\n",
    "\n",
    "# Function to create embeddings\n",
    "def create_embedding(text):\n",
    "    # Tokenize input text\n",
    "    inputs = tokenizer(text, return_tensors='pt', padding=True, truncation=True)\n",
    "    # Get model outputs\n",
    "    with torch.no_grad():\n",
    "        outputs = model(**inputs)\n",
    "    # Take the mean of the last hidden state to get the sentence embedding\n",
    "    return outputs.last_hidden_state.mean(dim=1).squeeze().numpy()\n",
    "\n",
    "# Apply the embedding function to the 'text' column\n",
    "df['embeddings_distilbert'] = df['text'].apply(lambda x: create_embedding(x))\n",
    "\n",
    "\n",
    "\n",
    "print(df.head(1))"
   ]
  },
  {
   "cell_type": "code",
   "execution_count": 4,
   "metadata": {},
   "outputs": [],
   "source": [
    "client = chromadb.Client()"
   ]
  },
  {
   "cell_type": "code",
   "execution_count": 5,
   "metadata": {},
   "outputs": [],
   "source": [
    "# Make vector store statbel_huggingface with unnormalized huggingface embedding\n",
    "\n",
    "ids = [str(index) for index in df.index]  # Convert index to string for IDs\n",
    "\n",
    "collection_huggingface = client.create_collection(name=\"statbel_huggingface\")\n",
    "collection_huggingface.add(\n",
    "    ids=ids,  # Unique identifiers for each document\n",
    "    documents=df['text'].tolist(), \n",
    "    embeddings=df['embeddings_huggingface'].tolist(),\n",
    "    metadatas=[{\"index\": index} for index in df.index]  # Optional metadata\n",
    "    )\n",
    "\n",
    "\n",
    "collection_huggingface_norm = client.create_collection(name=\"statbel_huggingface_norm\")\n",
    "collection_huggingface_norm.add(\n",
    "    ids=ids,  # Unique identifiers for each document\n",
    "    documents=df['text'].tolist(), \n",
    "    embeddings=df['embeddings_huggingface_normalized'].tolist(),\n",
    "    metadatas=[{\"index\": index} for index in df.index]  # Optional metadata\n",
    "    )\n",
    "\n",
    "\n",
    "# Make vector store statbel_distilbert with unnormalized distilbert embedding\n",
    "collection_distilbert = client.create_collection(name=\"statbel_distilbert\")\n",
    "collection_distilbert.add(\n",
    "    ids=ids,  # Unique identifiers for each document\n",
    "    documents=df['text'].tolist(),  # The text you want to store\n",
    "    embeddings=df['embeddings_distilbert'].tolist(),  # The corresponding embeddings\n",
    "    metadatas=[{\"index\": index} for index in df.index]  # Optional metadata\n",
    "    )\n",
    "\n"
   ]
  },
  {
   "cell_type": "code",
   "execution_count": 12,
   "metadata": {},
   "outputs": [
    {
     "name": "stdout",
     "output_type": "stream",
     "text": [
      "{'ids': [['88788', '88714']], 'embeddings': None, 'documents': [['in the city of Halle the number of males born in bel not married and age 65 is 30', 'in the city of Halle the number of males born in bel not married and age 64 is 29']], 'uris': None, 'data': None, 'metadatas': [[{'index': 88788}, {'index': 88714}]], 'distances': [[0.7273622751235962, 0.7450776100158691]], 'included': [<IncludeEnum.distances: 'distances'>, <IncludeEnum.documents: 'documents'>, <IncludeEnum.metadatas: 'metadatas'>]}\n",
      "---------\n",
      "{'ids': [['88788', '88714']], 'embeddings': None, 'documents': [['in the city of Halle the number of males born in bel not married and age 65 is 30', 'in the city of Halle the number of males born in bel not married and age 64 is 29']], 'uris': None, 'data': None, 'metadatas': [[{'index': 88788}, {'index': 88714}]], 'distances': [[0.7273622751235962, 0.7450776100158691]], 'included': [<IncludeEnum.distances: 'distances'>, <IncludeEnum.documents: 'documents'>, <IncludeEnum.metadatas: 'metadatas'>]}\n",
      "---------\n",
      "{'ids': [['88771', '88068']], 'embeddings': None, 'documents': [['in the city of Halle the number of males born in bel not married and age 20 is 193', 'in the city of Halle the number of males born in bel married and age 30 is 51']], 'uris': None, 'data': None, 'metadatas': [[{'index': 88771}, {'index': 88068}]], 'distances': [[24.60370445251465, 24.660888671875]], 'included': [<IncludeEnum.distances: 'distances'>, <IncludeEnum.documents: 'documents'>, <IncludeEnum.metadatas: 'metadatas'>]}\n"
     ]
    }
   ],
   "source": [
    "import numpy as np\n",
    "# Start asking some questions ..\n",
    "query_text = \"Let's have a look at all males of age 30 that are married and born in bel. How many are there? Please make sure you get this right: their age has to be 30.\"\n",
    "\n",
    "# Generate embeddings for the query\n",
    "query_embedding_huggingface = huggingface_embeddings_model.embed_query(query_text)\n",
    "query_embedding_huggingface_normalized = normalize(np.array(query_embedding_huggingface).reshape(1, -1), axis=1).flatten()\n",
    "query_embedding_distilbert = create_embedding(query_text)\n",
    "\n",
    "\n",
    "\n",
    "# Perform a similarity search for unnormalized huggingface embedding\n",
    "results_huggingface = collection_huggingface.query(\n",
    "    query_embeddings=[query_embedding_huggingface],  \n",
    "    n_results=2\n",
    ")\n",
    "\n",
    "\n",
    "# Perform a similarity search for normalized huggingface embedding\n",
    "results_huggingface_norm = collection_huggingface.query(\n",
    "    query_embeddings=[query_embedding_huggingface_normalized],  \n",
    "    n_results=2\n",
    ")\n",
    "\n",
    "# Perform a similarity search for distilbert tokenizer\n",
    "results_distilbert = collection_distilbert.query(\n",
    "    query_embeddings=[query_embedding_distilbert],  # The embedding of your query\n",
    "    n_results=2  # Number of results to retrieve\n",
    ")\n",
    "\n",
    "print(results_huggingface)\n",
    "print('---------')\n",
    "print(results_huggingface_norm)\n",
    "print('---------')\n",
    "print(results_distilbert)"
   ]
  },
  {
   "cell_type": "code",
   "execution_count": null,
   "metadata": {},
   "outputs": [],
   "source": []
  }
 ],
 "metadata": {
  "colab": {
   "authorship_tag": "ABX9TyO6+Sy9CskVr7oBXABvSo8e",
   "include_colab_link": true,
   "provenance": []
  },
  "kernelspec": {
   "display_name": "venv",
   "language": "python",
   "name": "venv"
  },
  "language_info": {
   "codemirror_mode": {
    "name": "ipython",
    "version": 3
   },
   "file_extension": ".py",
   "mimetype": "text/x-python",
   "name": "python",
   "nbconvert_exporter": "python",
   "pygments_lexer": "ipython3",
   "version": "3.10.12"
  }
 },
 "nbformat": 4,
 "nbformat_minor": 4
}
