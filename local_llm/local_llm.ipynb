{
 "cells": [
  {
   "cell_type": "code",
   "execution_count": 22,
   "id": "9997d0ec-1d0d-4ca3-bb2a-60da7e961993",
   "metadata": {},
   "outputs": [
    {
     "name": "stdout",
     "output_type": "stream",
     "text": [
      "Device: cuda\n",
      "Response: The capital of Italy is Rome. Rome, also known as \"The Eternal City,\" is one of the oldest continuously inhabited cities in the world, and it holds significant historical and cultural importance. Established as a city-state in the 8th century BCE, Rome grew and expanded, eventually becoming the capital of the Roman Republic and later, the Roman Empire, which extended its influence over most of Europe, Asia, and Africa.\n",
      "\n",
      "The Colosseum, a\n"
     ]
    }
   ],
   "source": [
    "import requests\n",
    "\n",
    "def query_llm(prompt):\n",
    "    url = \"http://192.168.0.23:8000/generate\"\n",
    "    response = requests.post(url, json={\"prompt\": prompt})\n",
    "    data = response.json()\n",
    "    return data[\"device\"], data[\"response\"]['choices'][0]['text'].strip()\n",
    "\n",
    "\n",
    "device, response_text = query_llm(\"What is the capital of Italy? Give some details.\")\n",
    "\n",
    "print(\"Device:\", device)\n",
    "print(\"Response:\", response_text)"
   ]
  }
 ],
 "metadata": {
  "kernelspec": {
   "display_name": "venv",
   "language": "python",
   "name": "venv"
  },
  "language_info": {
   "codemirror_mode": {
    "name": "ipython",
    "version": 3
   },
   "file_extension": ".py",
   "mimetype": "text/x-python",
   "name": "python",
   "nbconvert_exporter": "python",
   "pygments_lexer": "ipython3",
   "version": "3.10.12"
  }
 },
 "nbformat": 4,
 "nbformat_minor": 5
}
